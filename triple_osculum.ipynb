{
 "cells": [
  {
   "cell_type": "markdown",
   "metadata": {},
   "source": [
    "# Triple Osculum\n",
    "\n",
    "## Description:\n",
    "Simulates a 3D triple pendulum and uses the coordinates of each mass to control the parameters of a triple oscillator\n",
    "\n",
    "## Model:\n",
    "<img src=\"rsc\\triple_osculum_diagram.png\" alt=\"triple_osculum_diagram\" width=\"600\"/>\n",
    "\n",
    "Using Lagrangian Dynamics:\n",
    "\n",
    "$$\\frac{\\partial{L}}{\\partial{\\theta_1}} - \\frac{d}{dr}\\frac{\\partial{L}}{\\partial{\\dot{\\theta_1}}} = 0$$\n",
    "$$\\frac{\\partial{L}}{\\partial{\\theta_2}} - \\frac{d}{dr}\\frac{\\partial{L}}{\\partial{\\dot{\\theta_2}}} = 0$$\n",
    "$$\\frac{\\partial{L}}{\\partial{\\theta_3}} - \\frac{d}{dr}\\frac{\\partial{L}}{\\partial{\\dot{\\theta_3}}} = 0$$\n",
    "$$\\frac{\\partial{L}}{\\partial{\\phi_1}} - \\frac{d}{dr}\\frac{\\partial{L}}{\\partial{\\dot{\\phi_1}}} = 0$$\n",
    "$$\\frac{\\partial{L}}{\\partial{\\phi_2}} - \\frac{d}{dr}\\frac{\\partial{L}}{\\partial{\\dot{\\phi_2}}} = 0$$\n",
    "$$\\frac{\\partial{L}}{\\partial{\\phi_3}} - \\frac{d}{dr}\\frac{\\partial{L}}{\\partial{\\dot{\\phi_3}}} = 0$$\n",
    "\n",
    "where $L$, the Lagrangian, is:\n",
    "\n",
    "$$ L = \\sum{T_{i}} - \\sum{U_{i}}\\:\\:\\:...\\:\\:\\:i={1,2,3}$$ \n",
    "\n",
    "where $T$ the kinetic energy is:\n",
    "$$T_{i} = \\frac{1}{2}m_{i}(v_{x_{i}}^2 + v_{y_{i}}^2 + v_{z_{i}}^2)$$\n",
    "and $U$ the potential energy is:\n",
    "$$U_{i} = m_{i}gh_{i}$$"
   ]
  },
  {
   "cell_type": "code",
   "execution_count": 1,
   "metadata": {},
   "outputs": [
    {
     "name": "stdout",
     "output_type": "stream",
     "text": [
      "Requirement already satisfied: sympy==1.6.2 in /Library/Frameworks/Python.framework/Versions/3.11/lib/python3.11/site-packages (1.6.2)\n",
      "Requirement already satisfied: mpmath>=0.19 in /Library/Frameworks/Python.framework/Versions/3.11/lib/python3.11/site-packages (from sympy==1.6.2) (1.3.0)\n",
      "Note: you may need to restart the kernel to use updated packages.\n"
     ]
    }
   ],
   "source": [
    "# Import Packages\n",
    "%pip install sympy==1.6.2\n",
    "import numpy as np\n",
    "import scipy as sp\n",
    "import sympy as sym\n",
    "import matplotlib.pyplot as plt\n",
    "import dill\n",
    "dill.settings['recurse'] = True\n",
    "sym.init_printing(use_latex=\"mathjax\", latex_mode=\"equation\")"
   ]
  },
  {
   "cell_type": "markdown",
   "metadata": {},
   "source": [
    "Define the following parameters:\n",
    "\n",
    "$t$ = time, $g$ = gravity, $m$ = mass, $L$ = length\n",
    "\n",
    "Define the following state variables:\n",
    "\n",
    "$\\theta$ = angle from vertical, $\\phi$ = angle around vertical\n",
    "\n",
    "Subscripts 1...3 represent the corresponding segment of the triple pendulum."
   ]
  },
  {
   "cell_type": "code",
   "execution_count": 2,
   "metadata": {},
   "outputs": [],
   "source": [
    "# Define parameters\n",
    "t, g = sym.symbols('t g')\n",
    "m1, m2, m3 = sym.symbols('m1 m2 m3')\n",
    "L1, L2, L3 = sym.symbols('L1 L2 L3')\n",
    "\n",
    "# Define state variables\n",
    "th1, th2, th3 = sym.symbols('theta_1 theta_2 theta_3', cls=sym.Function)\n",
    "ph1, ph2, ph3 = sym.symbols('phi_1 phi_2 phi_3', cls=sym.Function)"
   ]
  },
  {
   "cell_type": "markdown",
   "metadata": {},
   "source": [
    "We must make the state variables functions of time, and symbolize their derivatives"
   ]
  },
  {
   "cell_type": "code",
   "execution_count": 3,
   "metadata": {},
   "outputs": [
    {
     "data": {
      "text/latex": [
       "\\begin{equation}\\left[ \\theta_{1}{\\left(t \\right)}, \\  \\theta_{2}{\\left(t \\right)}, \\  \\theta_{3}{\\left(t \\right)}, \\  \\frac{d}{d t} \\theta_{1}{\\left(t \\right)}, \\  \\frac{d}{d t} \\theta_{2}{\\left(t \\right)}, \\  \\frac{d}{d t} \\theta_{3}{\\left(t \\right)}, \\  \\frac{d^{2}}{d t^{2}} \\theta_{1}{\\left(t \\right)}, \\  \\frac{d^{2}}{d t^{2}} \\theta_{2}{\\left(t \\right)}, \\  \\frac{d^{2}}{d t^{2}} \\theta_{3}{\\left(t \\right)}\\right]\\end{equation}"
      ],
      "text/plain": [
       "⎡                                                        2           2        \n",
       "⎢                     d          d          d           d           d         \n",
       "⎢θ₁(t), θ₂(t), θ₃(t), ──(θ₁(t)), ──(θ₂(t)), ──(θ₃(t)), ───(θ₁(t)), ───(θ₂(t)),\n",
       "⎢                     dt         dt         dt           2           2        \n",
       "⎣                                                      dt          dt         \n",
       "\n",
       "   2       ⎤\n",
       "  d        ⎥\n",
       " ───(θ₃(t))⎥\n",
       "   2       ⎥\n",
       " dt        ⎦"
      ]
     },
     "metadata": {},
     "output_type": "display_data"
    },
    {
     "data": {
      "text/latex": [
       "\\begin{equation}\\left[ \\phi_{1}{\\left(t \\right)}, \\  \\phi_{2}{\\left(t \\right)}, \\  \\phi_{3}{\\left(t \\right)}, \\  \\frac{d}{d t} \\phi_{1}{\\left(t \\right)}, \\  \\frac{d}{d t} \\phi_{2}{\\left(t \\right)}, \\  \\frac{d}{d t} \\phi_{3}{\\left(t \\right)}, \\  \\frac{d^{2}}{d t^{2}} \\phi_{1}{\\left(t \\right)}, \\  \\frac{d^{2}}{d t^{2}} \\phi_{2}{\\left(t \\right)}, \\  \\frac{d^{2}}{d t^{2}} \\phi_{3}{\\left(t \\right)}\\right]\\end{equation}"
      ],
      "text/plain": [
       "⎡                                                        2           2        \n",
       "⎢                     d          d          d           d           d         \n",
       "⎢φ₁(t), φ₂(t), φ₃(t), ──(φ₁(t)), ──(φ₂(t)), ──(φ₃(t)), ───(φ₁(t)), ───(φ₂(t)),\n",
       "⎢                     dt         dt         dt           2           2        \n",
       "⎣                                                      dt          dt         \n",
       "\n",
       "   2       ⎤\n",
       "  d        ⎥\n",
       " ───(φ₃(t))⎥\n",
       "   2       ⎥\n",
       " dt        ⎦"
      ]
     },
     "metadata": {},
     "output_type": "display_data"
    }
   ],
   "source": [
    "th1 = th1(t)\n",
    "th2 = th2(t)\n",
    "th3 = th3(t)\n",
    "ph1 = ph1(t)\n",
    "ph2 = ph2(t)\n",
    "ph3 = ph3(t)\n",
    "\n",
    "dth1 = sym.diff(th1,t)\n",
    "ddth1 = sym.diff(dth1,t)\n",
    "dth2 = sym.diff(th2,t)\n",
    "ddth2 = sym.diff(dth2,t)\n",
    "dth3 = sym.diff(th3,t)\n",
    "ddth3 = sym.diff(dth3,t)\n",
    "\n",
    "dph1 = sym.diff(ph1,t)\n",
    "ddph1 = sym.diff(dph1,t)\n",
    "dph2 = sym.diff(ph2,t)\n",
    "ddph2 = sym.diff(dph2,t)\n",
    "dph3 = sym.diff(ph3,t)\n",
    "ddph3 = sym.diff(dph3,t)\n",
    "\n",
    "display([th1, th2, th3, dth1, dth2, dth3, ddth1, ddth2, ddth3])\n",
    "display([ph1, ph2, ph3, dph1, dph2, dph3, ddph1, ddph2, ddph3])"
   ]
  },
  {
   "cell_type": "markdown",
   "metadata": {},
   "source": [
    "Define x, y, z coordinates for each endpoint of each segment:"
   ]
  },
  {
   "cell_type": "code",
   "execution_count": 4,
   "metadata": {},
   "outputs": [
    {
     "data": {
      "text/latex": [
       "\\begin{equation}L_{1} \\sin{\\left(\\theta_{1}{\\left(t \\right)} \\right)} \\cos{\\left(\\phi_{1}{\\left(t \\right)} \\right)} + L_{2} \\sin{\\left(\\theta_{2}{\\left(t \\right)} \\right)} \\cos{\\left(\\phi_{2}{\\left(t \\right)} \\right)} + L_{3} \\sin{\\left(\\theta_{3}{\\left(t \\right)} \\right)} \\cos{\\left(\\phi_{3}{\\left(t \\right)} \\right)}\\end{equation}"
      ],
      "text/plain": [
       "L₁⋅sin(θ₁(t))⋅cos(φ₁(t)) + L₂⋅sin(θ₂(t))⋅cos(φ₂(t)) + L₃⋅sin(θ₃(t))⋅cos(φ₃(t))"
      ]
     },
     "metadata": {},
     "output_type": "display_data"
    },
    {
     "data": {
      "text/latex": [
       "\\begin{equation}L_{1} \\sin{\\left(\\phi_{1}{\\left(t \\right)} \\right)} \\sin{\\left(\\theta_{1}{\\left(t \\right)} \\right)} + L_{2} \\sin{\\left(\\phi_{2}{\\left(t \\right)} \\right)} \\sin{\\left(\\theta_{2}{\\left(t \\right)} \\right)} + L_{3} \\sin{\\left(\\phi_{3}{\\left(t \\right)} \\right)} \\sin{\\left(\\theta_{3}{\\left(t \\right)} \\right)}\\end{equation}"
      ],
      "text/plain": [
       "L₁⋅sin(φ₁(t))⋅sin(θ₁(t)) + L₂⋅sin(φ₂(t))⋅sin(θ₂(t)) + L₃⋅sin(φ₃(t))⋅sin(θ₃(t))"
      ]
     },
     "metadata": {},
     "output_type": "display_data"
    },
    {
     "data": {
      "text/latex": [
       "\\begin{equation}- L_{1} \\cos{\\left(\\theta_{1}{\\left(t \\right)} \\right)} - L_{2} \\cos{\\left(\\theta_{2}{\\left(t \\right)} \\right)} - L_{3} \\cos{\\left(\\theta_{3}{\\left(t \\right)} \\right)}\\end{equation}"
      ],
      "text/plain": [
       "-L₁⋅cos(θ₁(t)) - L₂⋅cos(θ₂(t)) - L₃⋅cos(θ₃(t))"
      ]
     },
     "metadata": {},
     "output_type": "display_data"
    }
   ],
   "source": [
    "x1 = L1*sym.sin(th1)*sym.cos(ph1)\n",
    "y1 = L1*sym.sin(th1)*sym.sin(ph1)\n",
    "z1 = -L1*sym.cos(th1)\n",
    "\n",
    "x2 = x1 + L2*sym.sin(th2)*sym.cos(ph2)\n",
    "y2 = y1 + L2*sym.sin(th2)*sym.sin(ph2)\n",
    "z2 = z1 - L2*sym.cos(th2)\n",
    "\n",
    "x3 = x2 + L3*sym.sin(th3)*sym.cos(ph3)\n",
    "y3 = y2 + L3*sym.sin(th3)*sym.sin(ph3)\n",
    "z3 = z2 - L3*sym.cos(th3)\n",
    "\n",
    "display(x3)\n",
    "display(y3)\n",
    "display(z3)"
   ]
  },
  {
   "cell_type": "markdown",
   "metadata": {},
   "source": [
    "Creating functionals"
   ]
  },
  {
   "cell_type": "code",
   "execution_count": 5,
   "metadata": {},
   "outputs": [],
   "source": [
    "x1f = sym.lambdify((th1, th2, th3, ph1, ph2, ph3, L1, L2, L3), x1)\n",
    "y1f = sym.lambdify((th1, th2, th3, ph1, ph2, ph3, L1, L2, L3), y1)\n",
    "z1f = sym.lambdify((th1, th2, th3, ph1, ph2, ph3, L1, L2, L3), z1)\n",
    "\n",
    "x2f = sym.lambdify((th1, th2, th3, ph1, ph2, ph3, L1, L2, L3), x2)\n",
    "y2f = sym.lambdify((th1, th2, th3, ph1, ph2, ph3, L1, L2, L3), y2)\n",
    "z2f = sym.lambdify((th1, th2, th3, ph1, ph2, ph3, L1, L2, L3), z2)\n",
    "\n",
    "x3f = sym.lambdify((th1, th2, th3, ph1, ph2, ph3, L1, L2, L3), x3)\n",
    "y3f = sym.lambdify((th1, th2, th3, ph1, ph2, ph3, L1, L2, L3), y3)\n",
    "z3f = sym.lambdify((th1, th2, th3, ph1, ph2, ph3, L1, L2, L3), z3)"
   ]
  },
  {
   "cell_type": "markdown",
   "metadata": {},
   "source": [
    "Calculating the Lagrangian"
   ]
  },
  {
   "cell_type": "code",
   "execution_count": 6,
   "metadata": {},
   "outputs": [
    {
     "data": {
      "text/latex": [
       "\\begin{equation}0.5 m_{1} \\left(L_{1}^{2} \\sin^{2}{\\left(\\theta_{1}{\\left(t \\right)} \\right)} \\left(\\frac{d}{d t} \\theta_{1}{\\left(t \\right)}\\right)^{2} + \\left(- L_{1} \\sin{\\left(\\phi_{1}{\\left(t \\right)} \\right)} \\sin{\\left(\\theta_{1}{\\left(t \\right)} \\right)} \\frac{d}{d t} \\phi_{1}{\\left(t \\right)} + L_{1} \\cos{\\left(\\phi_{1}{\\left(t \\right)} \\right)} \\cos{\\left(\\theta_{1}{\\left(t \\right)} \\right)} \\frac{d}{d t} \\theta_{1}{\\left(t \\right)}\\right)^{2} + \\left(L_{1} \\sin{\\left(\\phi_{1}{\\left(t \\right)} \\right)} \\cos{\\left(\\theta_{1}{\\left(t \\right)} \\right)} \\frac{d}{d t} \\theta_{1}{\\left(t \\right)} + L_{1} \\sin{\\left(\\theta_{1}{\\left(t \\right)} \\right)} \\cos{\\left(\\phi_{1}{\\left(t \\right)} \\right)} \\frac{d}{d t} \\phi_{1}{\\left(t \\right)}\\right)^{2}\\right) + 0.5 m_{2} \\left(\\left(L_{1} \\sin{\\left(\\theta_{1}{\\left(t \\right)} \\right)} \\frac{d}{d t} \\theta_{1}{\\left(t \\right)} + L_{2} \\sin{\\left(\\theta_{2}{\\left(t \\right)} \\right)} \\frac{d}{d t} \\theta_{2}{\\left(t \\right)}\\right)^{2} + \\left(- L_{1} \\sin{\\left(\\phi_{1}{\\left(t \\right)} \\right)} \\sin{\\left(\\theta_{1}{\\left(t \\right)} \\right)} \\frac{d}{d t} \\phi_{1}{\\left(t \\right)} + L_{1} \\cos{\\left(\\phi_{1}{\\left(t \\right)} \\right)} \\cos{\\left(\\theta_{1}{\\left(t \\right)} \\right)} \\frac{d}{d t} \\theta_{1}{\\left(t \\right)} - L_{2} \\sin{\\left(\\phi_{2}{\\left(t \\right)} \\right)} \\sin{\\left(\\theta_{2}{\\left(t \\right)} \\right)} \\frac{d}{d t} \\phi_{2}{\\left(t \\right)} + L_{2} \\cos{\\left(\\phi_{2}{\\left(t \\right)} \\right)} \\cos{\\left(\\theta_{2}{\\left(t \\right)} \\right)} \\frac{d}{d t} \\theta_{2}{\\left(t \\right)}\\right)^{2} + \\left(L_{1} \\sin{\\left(\\phi_{1}{\\left(t \\right)} \\right)} \\cos{\\left(\\theta_{1}{\\left(t \\right)} \\right)} \\frac{d}{d t} \\theta_{1}{\\left(t \\right)} + L_{1} \\sin{\\left(\\theta_{1}{\\left(t \\right)} \\right)} \\cos{\\left(\\phi_{1}{\\left(t \\right)} \\right)} \\frac{d}{d t} \\phi_{1}{\\left(t \\right)} + L_{2} \\sin{\\left(\\phi_{2}{\\left(t \\right)} \\right)} \\cos{\\left(\\theta_{2}{\\left(t \\right)} \\right)} \\frac{d}{d t} \\theta_{2}{\\left(t \\right)} + L_{2} \\sin{\\left(\\theta_{2}{\\left(t \\right)} \\right)} \\cos{\\left(\\phi_{2}{\\left(t \\right)} \\right)} \\frac{d}{d t} \\phi_{2}{\\left(t \\right)}\\right)^{2}\\right) + 0.5 m_{3} \\left(\\left(L_{1} \\sin{\\left(\\theta_{1}{\\left(t \\right)} \\right)} \\frac{d}{d t} \\theta_{1}{\\left(t \\right)} + L_{2} \\sin{\\left(\\theta_{2}{\\left(t \\right)} \\right)} \\frac{d}{d t} \\theta_{2}{\\left(t \\right)} + L_{3} \\sin{\\left(\\theta_{3}{\\left(t \\right)} \\right)} \\frac{d}{d t} \\theta_{3}{\\left(t \\right)}\\right)^{2} + \\left(- L_{1} \\sin{\\left(\\phi_{1}{\\left(t \\right)} \\right)} \\sin{\\left(\\theta_{1}{\\left(t \\right)} \\right)} \\frac{d}{d t} \\phi_{1}{\\left(t \\right)} + L_{1} \\cos{\\left(\\phi_{1}{\\left(t \\right)} \\right)} \\cos{\\left(\\theta_{1}{\\left(t \\right)} \\right)} \\frac{d}{d t} \\theta_{1}{\\left(t \\right)} - L_{2} \\sin{\\left(\\phi_{2}{\\left(t \\right)} \\right)} \\sin{\\left(\\theta_{2}{\\left(t \\right)} \\right)} \\frac{d}{d t} \\phi_{2}{\\left(t \\right)} + L_{2} \\cos{\\left(\\phi_{2}{\\left(t \\right)} \\right)} \\cos{\\left(\\theta_{2}{\\left(t \\right)} \\right)} \\frac{d}{d t} \\theta_{2}{\\left(t \\right)} - L_{3} \\sin{\\left(\\phi_{3}{\\left(t \\right)} \\right)} \\sin{\\left(\\theta_{3}{\\left(t \\right)} \\right)} \\frac{d}{d t} \\phi_{3}{\\left(t \\right)} + L_{3} \\cos{\\left(\\phi_{3}{\\left(t \\right)} \\right)} \\cos{\\left(\\theta_{3}{\\left(t \\right)} \\right)} \\frac{d}{d t} \\theta_{3}{\\left(t \\right)}\\right)^{2} + \\left(L_{1} \\sin{\\left(\\phi_{1}{\\left(t \\right)} \\right)} \\cos{\\left(\\theta_{1}{\\left(t \\right)} \\right)} \\frac{d}{d t} \\theta_{1}{\\left(t \\right)} + L_{1} \\sin{\\left(\\theta_{1}{\\left(t \\right)} \\right)} \\cos{\\left(\\phi_{1}{\\left(t \\right)} \\right)} \\frac{d}{d t} \\phi_{1}{\\left(t \\right)} + L_{2} \\sin{\\left(\\phi_{2}{\\left(t \\right)} \\right)} \\cos{\\left(\\theta_{2}{\\left(t \\right)} \\right)} \\frac{d}{d t} \\theta_{2}{\\left(t \\right)} + L_{2} \\sin{\\left(\\theta_{2}{\\left(t \\right)} \\right)} \\cos{\\left(\\phi_{2}{\\left(t \\right)} \\right)} \\frac{d}{d t} \\phi_{2}{\\left(t \\right)} + L_{3} \\sin{\\left(\\phi_{3}{\\left(t \\right)} \\right)} \\cos{\\left(\\theta_{3}{\\left(t \\right)} \\right)} \\frac{d}{d t} \\theta_{3}{\\left(t \\right)} + L_{3} \\sin{\\left(\\theta_{3}{\\left(t \\right)} \\right)} \\cos{\\left(\\phi_{3}{\\left(t \\right)} \\right)} \\frac{d}{d t} \\phi_{3}{\\left(t \\right)}\\right)^{2}\\right)\\end{equation}"
      ],
      "text/plain": [
       "       ⎛                           2                                          \n",
       "       ⎜  2    2        ⎛d        ⎞    ⎛                           d          \n",
       "0.5⋅m₁⋅⎜L₁ ⋅sin (θ₁(t))⋅⎜──(θ₁(t))⎟  + ⎜- L₁⋅sin(φ₁(t))⋅sin(θ₁(t))⋅──(φ₁(t)) +\n",
       "       ⎝                ⎝dt       ⎠    ⎝                           dt         \n",
       "\n",
       "                                    2                                         \n",
       "                          d        ⎞    ⎛                         d           \n",
       " L₁⋅cos(φ₁(t))⋅cos(θ₁(t))⋅──(θ₁(t))⎟  + ⎜L₁⋅sin(φ₁(t))⋅cos(θ₁(t))⋅──(θ₁(t)) + \n",
       "                          dt       ⎠    ⎝                         dt          \n",
       "\n",
       "                                   2⎞          ⎛                              \n",
       "                         d        ⎞ ⎟          ⎜⎛              d              \n",
       "L₁⋅sin(θ₁(t))⋅cos(φ₁(t))⋅──(φ₁(t))⎟ ⎟ + 0.5⋅m₂⋅⎜⎜L₁⋅sin(θ₁(t))⋅──(θ₁(t)) + L₂⋅\n",
       "                         dt       ⎠ ⎠          ⎝⎝              dt             \n",
       "\n",
       "                     2                                                        \n",
       "           d        ⎞    ⎛                           d                        \n",
       "sin(θ₂(t))⋅──(θ₂(t))⎟  + ⎜- L₁⋅sin(φ₁(t))⋅sin(θ₁(t))⋅──(φ₁(t)) + L₁⋅cos(φ₁(t))\n",
       "           dt       ⎠    ⎝                           dt                       \n",
       "\n",
       "                                                                              \n",
       "            d                                    d                            \n",
       "⋅cos(θ₁(t))⋅──(θ₁(t)) - L₂⋅sin(φ₂(t))⋅sin(θ₂(t))⋅──(φ₂(t)) + L₂⋅cos(φ₂(t))⋅cos\n",
       "            dt                                   dt                           \n",
       "\n",
       "                  2                                                           \n",
       "        d        ⎞    ⎛                         d                             \n",
       "(θ₂(t))⋅──(θ₂(t))⎟  + ⎜L₁⋅sin(φ₁(t))⋅cos(θ₁(t))⋅──(θ₁(t)) + L₁⋅sin(θ₁(t))⋅cos(\n",
       "        dt       ⎠    ⎝                         dt                            \n",
       "\n",
       "                                                                              \n",
       "       d                                    d                                 \n",
       "φ₁(t))⋅──(φ₁(t)) + L₂⋅sin(φ₂(t))⋅cos(θ₂(t))⋅──(θ₂(t)) + L₂⋅sin(θ₂(t))⋅cos(φ₂(t\n",
       "       dt                                   dt                                \n",
       "\n",
       "             2⎞          ⎛                                                    \n",
       "   d        ⎞ ⎟          ⎜⎛              d                         d          \n",
       "))⋅──(φ₂(t))⎟ ⎟ + 0.5⋅m₃⋅⎜⎜L₁⋅sin(θ₁(t))⋅──(θ₁(t)) + L₂⋅sin(θ₂(t))⋅──(θ₂(t)) +\n",
       "   dt       ⎠ ⎠          ⎝⎝              dt                        dt         \n",
       "\n",
       "                         2                                                    \n",
       "               d        ⎞    ⎛                           d                    \n",
       " L₃⋅sin(θ₃(t))⋅──(θ₃(t))⎟  + ⎜- L₁⋅sin(φ₁(t))⋅sin(θ₁(t))⋅──(φ₁(t)) + L₁⋅cos(φ₁\n",
       "               dt       ⎠    ⎝                           dt                   \n",
       "\n",
       "                                                                              \n",
       "                d                                    d                        \n",
       "(t))⋅cos(θ₁(t))⋅──(θ₁(t)) - L₂⋅sin(φ₂(t))⋅sin(θ₂(t))⋅──(φ₂(t)) + L₂⋅cos(φ₂(t))\n",
       "                dt                                   dt                       \n",
       "\n",
       "                                                                              \n",
       "            d                                    d                            \n",
       "⋅cos(θ₂(t))⋅──(θ₂(t)) - L₃⋅sin(φ₃(t))⋅sin(θ₃(t))⋅──(φ₃(t)) + L₃⋅cos(φ₃(t))⋅cos\n",
       "            dt                                   dt                           \n",
       "\n",
       "                  2                                                           \n",
       "        d        ⎞    ⎛                         d                             \n",
       "(θ₃(t))⋅──(θ₃(t))⎟  + ⎜L₁⋅sin(φ₁(t))⋅cos(θ₁(t))⋅──(θ₁(t)) + L₁⋅sin(θ₁(t))⋅cos(\n",
       "        dt       ⎠    ⎝                         dt                            \n",
       "\n",
       "                                                                              \n",
       "       d                                    d                                 \n",
       "φ₁(t))⋅──(φ₁(t)) + L₂⋅sin(φ₂(t))⋅cos(θ₂(t))⋅──(θ₂(t)) + L₂⋅sin(θ₂(t))⋅cos(φ₂(t\n",
       "       dt                                   dt                                \n",
       "\n",
       "                                                                              \n",
       "   d                                    d                                    d\n",
       "))⋅──(φ₂(t)) + L₃⋅sin(φ₃(t))⋅cos(θ₃(t))⋅──(θ₃(t)) + L₃⋅sin(θ₃(t))⋅cos(φ₃(t))⋅─\n",
       "   dt                                   dt                                   d\n",
       "\n",
       "         2⎞\n",
       "        ⎞ ⎟\n",
       "─(φ₃(t))⎟ ⎟\n",
       "t       ⎠ ⎠"
      ]
     },
     "metadata": {},
     "output_type": "display_data"
    },
    {
     "data": {
      "text/latex": [
       "\\begin{equation}- L_{1} g m_{1} \\cos{\\left(\\theta_{1}{\\left(t \\right)} \\right)} + g m_{2} \\left(- L_{1} \\cos{\\left(\\theta_{1}{\\left(t \\right)} \\right)} - L_{2} \\cos{\\left(\\theta_{2}{\\left(t \\right)} \\right)}\\right) + g m_{3} \\left(- L_{1} \\cos{\\left(\\theta_{1}{\\left(t \\right)} \\right)} - L_{2} \\cos{\\left(\\theta_{2}{\\left(t \\right)} \\right)} - L_{3} \\cos{\\left(\\theta_{3}{\\left(t \\right)} \\right)}\\right)\\end{equation}"
      ],
      "text/plain": [
       "-L₁⋅g⋅m₁⋅cos(θ₁(t)) + g⋅m₂⋅(-L₁⋅cos(θ₁(t)) - L₂⋅cos(θ₂(t))) + g⋅m₃⋅(-L₁⋅cos(θ₁\n",
       "(t)) - L₂⋅cos(θ₂(t)) - L₃⋅cos(θ₃(t)))"
      ]
     },
     "metadata": {},
     "output_type": "display_data"
    },
    {
     "data": {
      "text/latex": [
       "\\begin{equation}L_{1} g m_{1} \\cos{\\left(\\theta_{1}{\\left(t \\right)} \\right)} - g m_{2} \\left(- L_{1} \\cos{\\left(\\theta_{1}{\\left(t \\right)} \\right)} - L_{2} \\cos{\\left(\\theta_{2}{\\left(t \\right)} \\right)}\\right) - g m_{3} \\left(- L_{1} \\cos{\\left(\\theta_{1}{\\left(t \\right)} \\right)} - L_{2} \\cos{\\left(\\theta_{2}{\\left(t \\right)} \\right)} - L_{3} \\cos{\\left(\\theta_{3}{\\left(t \\right)} \\right)}\\right) + 0.5 m_{1} \\left(L_{1}^{2} \\sin^{2}{\\left(\\theta_{1}{\\left(t \\right)} \\right)} \\left(\\frac{d}{d t} \\theta_{1}{\\left(t \\right)}\\right)^{2} + \\left(- L_{1} \\sin{\\left(\\phi_{1}{\\left(t \\right)} \\right)} \\sin{\\left(\\theta_{1}{\\left(t \\right)} \\right)} \\frac{d}{d t} \\phi_{1}{\\left(t \\right)} + L_{1} \\cos{\\left(\\phi_{1}{\\left(t \\right)} \\right)} \\cos{\\left(\\theta_{1}{\\left(t \\right)} \\right)} \\frac{d}{d t} \\theta_{1}{\\left(t \\right)}\\right)^{2} + \\left(L_{1} \\sin{\\left(\\phi_{1}{\\left(t \\right)} \\right)} \\cos{\\left(\\theta_{1}{\\left(t \\right)} \\right)} \\frac{d}{d t} \\theta_{1}{\\left(t \\right)} + L_{1} \\sin{\\left(\\theta_{1}{\\left(t \\right)} \\right)} \\cos{\\left(\\phi_{1}{\\left(t \\right)} \\right)} \\frac{d}{d t} \\phi_{1}{\\left(t \\right)}\\right)^{2}\\right) + 0.5 m_{2} \\left(\\left(L_{1} \\sin{\\left(\\theta_{1}{\\left(t \\right)} \\right)} \\frac{d}{d t} \\theta_{1}{\\left(t \\right)} + L_{2} \\sin{\\left(\\theta_{2}{\\left(t \\right)} \\right)} \\frac{d}{d t} \\theta_{2}{\\left(t \\right)}\\right)^{2} + \\left(- L_{1} \\sin{\\left(\\phi_{1}{\\left(t \\right)} \\right)} \\sin{\\left(\\theta_{1}{\\left(t \\right)} \\right)} \\frac{d}{d t} \\phi_{1}{\\left(t \\right)} + L_{1} \\cos{\\left(\\phi_{1}{\\left(t \\right)} \\right)} \\cos{\\left(\\theta_{1}{\\left(t \\right)} \\right)} \\frac{d}{d t} \\theta_{1}{\\left(t \\right)} - L_{2} \\sin{\\left(\\phi_{2}{\\left(t \\right)} \\right)} \\sin{\\left(\\theta_{2}{\\left(t \\right)} \\right)} \\frac{d}{d t} \\phi_{2}{\\left(t \\right)} + L_{2} \\cos{\\left(\\phi_{2}{\\left(t \\right)} \\right)} \\cos{\\left(\\theta_{2}{\\left(t \\right)} \\right)} \\frac{d}{d t} \\theta_{2}{\\left(t \\right)}\\right)^{2} + \\left(L_{1} \\sin{\\left(\\phi_{1}{\\left(t \\right)} \\right)} \\cos{\\left(\\theta_{1}{\\left(t \\right)} \\right)} \\frac{d}{d t} \\theta_{1}{\\left(t \\right)} + L_{1} \\sin{\\left(\\theta_{1}{\\left(t \\right)} \\right)} \\cos{\\left(\\phi_{1}{\\left(t \\right)} \\right)} \\frac{d}{d t} \\phi_{1}{\\left(t \\right)} + L_{2} \\sin{\\left(\\phi_{2}{\\left(t \\right)} \\right)} \\cos{\\left(\\theta_{2}{\\left(t \\right)} \\right)} \\frac{d}{d t} \\theta_{2}{\\left(t \\right)} + L_{2} \\sin{\\left(\\theta_{2}{\\left(t \\right)} \\right)} \\cos{\\left(\\phi_{2}{\\left(t \\right)} \\right)} \\frac{d}{d t} \\phi_{2}{\\left(t \\right)}\\right)^{2}\\right) + 0.5 m_{3} \\left(\\left(L_{1} \\sin{\\left(\\theta_{1}{\\left(t \\right)} \\right)} \\frac{d}{d t} \\theta_{1}{\\left(t \\right)} + L_{2} \\sin{\\left(\\theta_{2}{\\left(t \\right)} \\right)} \\frac{d}{d t} \\theta_{2}{\\left(t \\right)} + L_{3} \\sin{\\left(\\theta_{3}{\\left(t \\right)} \\right)} \\frac{d}{d t} \\theta_{3}{\\left(t \\right)}\\right)^{2} + \\left(- L_{1} \\sin{\\left(\\phi_{1}{\\left(t \\right)} \\right)} \\sin{\\left(\\theta_{1}{\\left(t \\right)} \\right)} \\frac{d}{d t} \\phi_{1}{\\left(t \\right)} + L_{1} \\cos{\\left(\\phi_{1}{\\left(t \\right)} \\right)} \\cos{\\left(\\theta_{1}{\\left(t \\right)} \\right)} \\frac{d}{d t} \\theta_{1}{\\left(t \\right)} - L_{2} \\sin{\\left(\\phi_{2}{\\left(t \\right)} \\right)} \\sin{\\left(\\theta_{2}{\\left(t \\right)} \\right)} \\frac{d}{d t} \\phi_{2}{\\left(t \\right)} + L_{2} \\cos{\\left(\\phi_{2}{\\left(t \\right)} \\right)} \\cos{\\left(\\theta_{2}{\\left(t \\right)} \\right)} \\frac{d}{d t} \\theta_{2}{\\left(t \\right)} - L_{3} \\sin{\\left(\\phi_{3}{\\left(t \\right)} \\right)} \\sin{\\left(\\theta_{3}{\\left(t \\right)} \\right)} \\frac{d}{d t} \\phi_{3}{\\left(t \\right)} + L_{3} \\cos{\\left(\\phi_{3}{\\left(t \\right)} \\right)} \\cos{\\left(\\theta_{3}{\\left(t \\right)} \\right)} \\frac{d}{d t} \\theta_{3}{\\left(t \\right)}\\right)^{2} + \\left(L_{1} \\sin{\\left(\\phi_{1}{\\left(t \\right)} \\right)} \\cos{\\left(\\theta_{1}{\\left(t \\right)} \\right)} \\frac{d}{d t} \\theta_{1}{\\left(t \\right)} + L_{1} \\sin{\\left(\\theta_{1}{\\left(t \\right)} \\right)} \\cos{\\left(\\phi_{1}{\\left(t \\right)} \\right)} \\frac{d}{d t} \\phi_{1}{\\left(t \\right)} + L_{2} \\sin{\\left(\\phi_{2}{\\left(t \\right)} \\right)} \\cos{\\left(\\theta_{2}{\\left(t \\right)} \\right)} \\frac{d}{d t} \\theta_{2}{\\left(t \\right)} + L_{2} \\sin{\\left(\\theta_{2}{\\left(t \\right)} \\right)} \\cos{\\left(\\phi_{2}{\\left(t \\right)} \\right)} \\frac{d}{d t} \\phi_{2}{\\left(t \\right)} + L_{3} \\sin{\\left(\\phi_{3}{\\left(t \\right)} \\right)} \\cos{\\left(\\theta_{3}{\\left(t \\right)} \\right)} \\frac{d}{d t} \\theta_{3}{\\left(t \\right)} + L_{3} \\sin{\\left(\\theta_{3}{\\left(t \\right)} \\right)} \\cos{\\left(\\phi_{3}{\\left(t \\right)} \\right)} \\frac{d}{d t} \\phi_{3}{\\left(t \\right)}\\right)^{2}\\right)\\end{equation}"
      ],
      "text/plain": [
       "                                                                              \n",
       "                                                                              \n",
       "L₁⋅g⋅m₁⋅cos(θ₁(t)) - g⋅m₂⋅(-L₁⋅cos(θ₁(t)) - L₂⋅cos(θ₂(t))) - g⋅m₃⋅(-L₁⋅cos(θ₁(\n",
       "                                                                              \n",
       "\n",
       "                                              ⎛                           2   \n",
       "                                              ⎜  2    2        ⎛d        ⎞    \n",
       "t)) - L₂⋅cos(θ₂(t)) - L₃⋅cos(θ₃(t))) + 0.5⋅m₁⋅⎜L₁ ⋅sin (θ₁(t))⋅⎜──(θ₁(t))⎟  + \n",
       "                                              ⎝                ⎝dt       ⎠    \n",
       "\n",
       "                                                                           2  \n",
       "⎛                           d                                    d        ⎞   \n",
       "⎜- L₁⋅sin(φ₁(t))⋅sin(θ₁(t))⋅──(φ₁(t)) + L₁⋅cos(φ₁(t))⋅cos(θ₁(t))⋅──(θ₁(t))⎟  +\n",
       "⎝                           dt                                   dt       ⎠   \n",
       "\n",
       "                                                                          2⎞  \n",
       " ⎛                         d                                    d        ⎞ ⎟  \n",
       " ⎜L₁⋅sin(φ₁(t))⋅cos(θ₁(t))⋅──(θ₁(t)) + L₁⋅sin(θ₁(t))⋅cos(φ₁(t))⋅──(φ₁(t))⎟ ⎟ +\n",
       " ⎝                         dt                                   dt       ⎠ ⎠  \n",
       "\n",
       "        ⎛                                                   2                 \n",
       "        ⎜⎛              d                         d        ⎞    ⎛             \n",
       " 0.5⋅m₂⋅⎜⎜L₁⋅sin(θ₁(t))⋅──(θ₁(t)) + L₂⋅sin(θ₂(t))⋅──(θ₂(t))⎟  + ⎜- L₁⋅sin(φ₁(t\n",
       "        ⎝⎝              dt                        dt       ⎠    ⎝             \n",
       "\n",
       "                                                                              \n",
       "              d                                    d                          \n",
       "))⋅sin(θ₁(t))⋅──(φ₁(t)) + L₁⋅cos(φ₁(t))⋅cos(θ₁(t))⋅──(θ₁(t)) - L₂⋅sin(φ₂(t))⋅s\n",
       "              dt                                   dt                         \n",
       "\n",
       "                                                         2                    \n",
       "          d                                    d        ⎞    ⎛                \n",
       "in(θ₂(t))⋅──(φ₂(t)) + L₂⋅cos(φ₂(t))⋅cos(θ₂(t))⋅──(θ₂(t))⎟  + ⎜L₁⋅sin(φ₁(t))⋅co\n",
       "          dt                                   dt       ⎠    ⎝                \n",
       "\n",
       "                                                                              \n",
       "         d                                    d                               \n",
       "s(θ₁(t))⋅──(θ₁(t)) + L₁⋅sin(θ₁(t))⋅cos(φ₁(t))⋅──(φ₁(t)) + L₂⋅sin(φ₂(t))⋅cos(θ₂\n",
       "         dt                                   dt                              \n",
       "\n",
       "                                                    2⎞          ⎛             \n",
       "     d                                    d        ⎞ ⎟          ⎜⎛            \n",
       "(t))⋅──(θ₂(t)) + L₂⋅sin(θ₂(t))⋅cos(φ₂(t))⋅──(φ₂(t))⎟ ⎟ + 0.5⋅m₃⋅⎜⎜L₁⋅sin(θ₁(t)\n",
       "     dt                                   dt       ⎠ ⎠          ⎝⎝            \n",
       "\n",
       "                                                                2             \n",
       "  d                         d                         d        ⎞    ⎛         \n",
       ")⋅──(θ₁(t)) + L₂⋅sin(θ₂(t))⋅──(θ₂(t)) + L₃⋅sin(θ₃(t))⋅──(θ₃(t))⎟  + ⎜- L₁⋅sin(\n",
       "  dt                        dt                        dt       ⎠    ⎝         \n",
       "\n",
       "                                                                              \n",
       "                  d                                    d                      \n",
       "φ₁(t))⋅sin(θ₁(t))⋅──(φ₁(t)) + L₁⋅cos(φ₁(t))⋅cos(θ₁(t))⋅──(θ₁(t)) - L₂⋅sin(φ₂(t\n",
       "                  dt                                   dt                     \n",
       "\n",
       "                                                                              \n",
       "              d                                    d                          \n",
       "))⋅sin(θ₂(t))⋅──(φ₂(t)) + L₂⋅cos(φ₂(t))⋅cos(θ₂(t))⋅──(θ₂(t)) - L₃⋅sin(φ₃(t))⋅s\n",
       "              dt                                   dt                         \n",
       "\n",
       "                                                         2                    \n",
       "          d                                    d        ⎞    ⎛                \n",
       "in(θ₃(t))⋅──(φ₃(t)) + L₃⋅cos(φ₃(t))⋅cos(θ₃(t))⋅──(θ₃(t))⎟  + ⎜L₁⋅sin(φ₁(t))⋅co\n",
       "          dt                                   dt       ⎠    ⎝                \n",
       "\n",
       "                                                                              \n",
       "         d                                    d                               \n",
       "s(θ₁(t))⋅──(θ₁(t)) + L₁⋅sin(θ₁(t))⋅cos(φ₁(t))⋅──(φ₁(t)) + L₂⋅sin(φ₂(t))⋅cos(θ₂\n",
       "         dt                                   dt                              \n",
       "\n",
       "                                                                              \n",
       "     d                                    d                                   \n",
       "(t))⋅──(θ₂(t)) + L₂⋅sin(θ₂(t))⋅cos(φ₂(t))⋅──(φ₂(t)) + L₃⋅sin(φ₃(t))⋅cos(θ₃(t))\n",
       "     dt                                   dt                                  \n",
       "\n",
       "                                                2⎞\n",
       " d                                    d        ⎞ ⎟\n",
       "⋅──(θ₃(t)) + L₃⋅sin(θ₃(t))⋅cos(φ₃(t))⋅──(φ₃(t))⎟ ⎟\n",
       " dt                                   dt       ⎠ ⎠"
      ]
     },
     "metadata": {},
     "output_type": "display_data"
    }
   ],
   "source": [
    "# Kinetic energy for each component\n",
    "T1 = 1/2 * m1 * (sym.diff(x1, t)**2 + sym.diff(y1, t)**2 + sym.diff(z1, t)**2)\n",
    "T2 = 1/2 * m2 * (sym.diff(x2, t)**2 + sym.diff(y2, t)**2 + sym.diff(z2, t)**2)\n",
    "T3 = 1/2 * m3 * (sym.diff(x3, t)**2 + sym.diff(y3, t)**2 + sym.diff(z3, t)**2)\n",
    "T = T1 + T2 + T3 # Total kinetic energy\n",
    "\n",
    "display(T)\n",
    "# Potential energy for each component\n",
    "U1 = m1*g*z1 \n",
    "U2 = m2*g*z2\n",
    "U3 = m3*g*z3\n",
    "U = U1 + U2 + U3 # Total potential energy\n",
    "display(U)\n",
    "\n",
    "L = T - U # Lagrangian\n",
    "display(L)"
   ]
  },
  {
   "cell_type": "markdown",
   "metadata": {},
   "source": [
    "Calculate the Lagrangian derivatives:"
   ]
  },
  {
   "cell_type": "code",
   "execution_count": 7,
   "metadata": {},
   "outputs": [],
   "source": [
    "# Commented out for speed, solutions loaded in from files.\n",
    "\n",
    "# LD_th1 = (sym.diff(L, th1) - sym.diff(sym.diff(L, dth1), t)).simplify()\n",
    "# LD_th2 = (sym.diff(L, th2) - sym.diff(sym.diff(L, dth2), t)).simplify()\n",
    "# LD_th3 = (sym.diff(L, th3) - sym.diff(sym.diff(L, dth3), t)).simplify()\n",
    "# LD_ph1 = (sym.diff(L, ph1) - sym.diff(sym.diff(L, dph1), t)).simplify()\n",
    "# LD_ph2 = (sym.diff(L, ph2) - sym.diff(sym.diff(L, dph2), t)).simplify()\n",
    "# LD_ph3 = (sym.diff(L, ph3) - sym.diff(sym.diff(L, dph3), t)).simplify()\n",
    "\n",
    "# dill.dump(LD_th1, open(\"LD_th1\", \"wb\"))\n",
    "# dill.dump(LD_th2, open(\"LD_th2\", \"wb\"))\n",
    "# dill.dump(LD_th3, open(\"LD_th3\", \"wb\"))\n",
    "# dill.dump(LD_ph1, open(\"LD_ph1\", \"wb\"))\n",
    "# dill.dump(LD_ph2, open(\"LD_ph2\", \"wb\"))\n",
    "# dill.dump(LD_ph3, open(\"LD_ph3\", \"wb\"))\n",
    "\n",
    "# LD_th1 = dill.load(open(\"LD_th1\", \"rb\"))\n",
    "# LD_th2 = dill.load(open(\"LD_th2\", \"rb\"))\n",
    "# LD_th3 = dill.load(open(\"LD_th3\", \"rb\"))\n",
    "# LD_ph1 = dill.load(open(\"LD_ph1\", \"rb\"))\n",
    "# LD_ph2 = dill.load(open(\"LD_ph2\", \"rb\"))\n",
    "# LD_ph3 = dill.load(open(\"LD_ph3\", \"rb\"))"
   ]
  },
  {
   "cell_type": "markdown",
   "metadata": {},
   "source": [
    "Solve the equations in the form: \n",
    "$\\frac{\\partial{L}}{\\partial{\\theta_i}} - \\frac{d}{dr}\\frac{\\partial{L}}{\\partial{\\dot{\\theta_i}}} = 0$\n",
    "using the sym.solve function (assumes expressions are = 0)"
   ]
  },
  {
   "cell_type": "code",
   "execution_count": 8,
   "metadata": {},
   "outputs": [],
   "source": [
    "# Commented out for speed, solutions loaded in from files.\n",
    "# sols = sym.solve([LD_th1, LD_th2, LD_th3, LD_ph1, LD_ph2, LD_ph3], (ddth1, ddth2, ddth3, ddph1, ddph2, ddph3), simplify=False, rational=False)\n",
    "# dill.dump(sols, open(\"sols\", \"wb\"))\n",
    "# sols = dill.load(open(\"sols\", \"rb\"))"
   ]
  },
  {
   "cell_type": "markdown",
   "metadata": {},
   "source": [
    "Now we need to convert the six second-order ODEs to 12 first-order ODEs by substitution of variables\n",
    "\n",
    "$ a_1 = \\frac{d\\theta_1}{dt}\\:\\: \\therefore \\:\\: \\frac{da_1}{dt} = \\frac{d^2\\theta_1}{dt^2}$\n",
    "\n",
    "$ a_2 = \\frac{d\\theta_2}{dt}\\:\\: \\therefore \\:\\: \\frac{da_2}{dt} = \\frac{d^2\\theta_2}{dt^2}$\n",
    "\n",
    "$ a_3 = \\frac{d\\theta_3}{dt}\\:\\: \\therefore \\:\\: \\frac{da_3}{dt} = \\frac{d^2\\theta_3}{dt^2}$\n",
    "\n",
    "$ b_1 = \\frac{d\\phi_1}{dt}\\:\\: \\therefore \\:\\: \\frac{db_1}{dt} = \\frac{d^2\\phi_1}{dt^2}$\n",
    "\n",
    "$ b_2 = \\frac{d\\phi_2}{dt}\\:\\: \\therefore \\:\\: \\frac{db_2}{dt} = \\frac{d^2\\phi_2}{dt^2}$\n",
    "\n",
    "$ b_3 = \\frac{d\\phi_3}{dt}\\:\\: \\therefore \\:\\: \\frac{db_3}{dt} = \\frac{d^2\\phi_3}{dt^2}$\n",
    "\n",
    "Therefore our 12 equations that will be entered into the solver are as follows:\n",
    "\n",
    "$(1):\\:\\:\\ \\frac{d\\theta_1}{dt} = a_1 $\n",
    "\n",
    "$(2):\\:\\:\\ \\frac{da_1}{dt} = sym.solve(\\frac{d^2\\theta_1}{dt^2})$\n",
    "\n",
    "$(3):\\:\\:\\ \\frac{d\\theta_2}{dt} = a_2 $\n",
    "\n",
    "$(4):\\:\\:\\ \\frac{da_2}{dt} = sym.solve(\\frac{d^2\\theta_2}{dt^2})$\n",
    "\n",
    "$(5):\\:\\:\\ \\frac{d\\theta_3}{dt} = a_3 $\n",
    "\n",
    "$(6):\\:\\:\\ \\frac{da_3}{dt} = sym.solve(\\frac{d^2\\theta_3}{dt^2})$\n",
    "\n",
    "$(7):\\:\\:\\ \\frac{d\\phi_1}{dt} = b_1 $\n",
    "\n",
    "$(8):\\:\\:\\ \\frac{db_1}{dt} = sym.solve(\\frac{d^2\\phi_1}{dt^2})$\n",
    "\n",
    "$(9):\\:\\:\\ \\frac{d\\phi_2}{dt} = b_2 $\n",
    "\n",
    "$(10):\\:\\:\\ \\frac{db_2}{dt} = sym.solve(\\frac{d^2\\phi_2}{dt^2})$\n",
    "\n",
    "$(11):\\:\\:\\ \\frac{d\\phi_3}{dt} = b_3 $\n",
    "\n",
    "$(12):\\:\\:\\ \\frac{db_3}{dt} = sym.solve(\\frac{d^2\\phi_3}{dt^2})$\n",
    "\n",
    "First, convert to numerical expressions:"
   ]
  },
  {
   "cell_type": "code",
   "execution_count": 9,
   "metadata": {},
   "outputs": [],
   "source": [
    "# da1dt = sym.lambdify((t, g, m1, m2, m3, L1, L2, L3, th1, th2, th3, dth1, dth2, dth3, ph1, ph2, ph3, dph1, dph2, dph3), sols[ddth1])\n",
    "# da2dt = sym.lambdify((t, g, m1, m2, m3, L1, L2, L3, th1, th2, th3, dth1, dth2, dth3, ph1, ph2, ph3, dph1, dph2, dph3), sols[ddth2])\n",
    "# da3dt = sym.lambdify((t, g, m1, m2, m3, L1, L2, L3, th1, th2, th3, dth1, dth2, dth3, ph1, ph2, ph3, dph1, dph2, dph3), sols[ddth3])\n",
    "# dth1dt = sym.lambdify(dth1, dth1)\n",
    "# dth2dt = sym.lambdify(dth2, dth2)\n",
    "# dth3dt = sym.lambdify(dth3, dth3)\n",
    "\n",
    "# db1dt = sym.lambdify((t, g, m1, m2, m3, L1, L2, L3, th1, th2, th3, dth1, dth2, dth3, ph1, ph2, ph3, dph1, dph2, dph3), sols[ddph1])\n",
    "# db2dt = sym.lambdify((t, g, m1, m2, m3, L1, L2, L3, th1, th2, th3, dth1, dth2, dth3, ph1, ph2, ph3, dph1, dph2, dph3), sols[ddph2])\n",
    "# db3dt = sym.lambdify((t, g, m1, m2, m3, L1, L2, L3, th1, th2, th3, dth1, dth2, dth3, ph1, ph2, ph3, dph1, dph2, dph3), sols[ddph3])\n",
    "# dph1dt = sym.lambdify(dph1, dph1)\n",
    "# dph2dt = sym.lambdify(dph2, dph2)\n",
    "# dph3dt = sym.lambdify(dph3, dph3)\n",
    "\n",
    "# dill.dump(da1dt, open(\"da1dt\", \"wb\"))\n",
    "# dill.dump(da2dt, open(\"da2dt\", \"wb\"))\n",
    "# dill.dump(da3dt, open(\"da3dt\", \"wb\"))\n",
    "# dill.dump(dth1dt, open(\"dth1dt\", \"wb\"))\n",
    "# dill.dump(dth2dt, open(\"dth2dt\", \"wb\"))\n",
    "# dill.dump(dth3dt, open(\"dth3dt\", \"wb\"))\n",
    "\n",
    "# dill.dump(db1dt, open(\"db1dt\", \"wb\"))\n",
    "# dill.dump(db2dt, open(\"db2dt\", \"wb\"))\n",
    "# dill.dump(db3dt, open(\"db3dt\", \"wb\"))\n",
    "# dill.dump(dph1dt, open(\"dph1dt\", \"wb\"))\n",
    "# dill.dump(dph2dt, open(\"dph2dt\", \"wb\"))\n",
    "# dill.dump(dph3dt, open(\"dph3dt\", \"wb\"))\n",
    "\n",
    "da1dt = dill.load(open(\"da1dt\", \"rb\"))\n",
    "da2dt = dill.load(open(\"da2dt\", \"rb\"))\n",
    "da3dt = dill.load(open(\"da3dt\", \"rb\"))\n",
    "dth1dt = dill.load(open(\"dth1dt\", \"rb\"))\n",
    "dth2dt = dill.load(open(\"dth2dt\", \"rb\"))\n",
    "dth3dt = dill.load(open(\"dth3dt\", \"rb\"))\n",
    "\n",
    "db1dt = dill.load(open(\"db1dt\", \"rb\"))\n",
    "db2dt = dill.load(open(\"db2dt\", \"rb\"))\n",
    "db3dt = dill.load(open(\"db3dt\", \"rb\"))\n",
    "dph1dt = dill.load(open(\"dph1dt\", \"rb\"))\n",
    "dph2dt = dill.load(open(\"dph2dt\", \"rb\"))\n",
    "dph3dt = dill.load(open(\"dph3dt\", \"rb\"))"
   ]
  },
  {
   "cell_type": "markdown",
   "metadata": {},
   "source": [
    "The state vector becomes:\n",
    "\n",
    "$$\\vec{s} = \\begin{bmatrix}\\theta_1\\\\ \\theta_2\\\\ \\theta_3\\\\ \\phi_1\\\\ \\phi_2\\\\ \\phi_3\\\\ a_1\\\\ a_2\\\\ a_3\\\\ b_1\\\\ b_2\\\\ b_3 \\end{bmatrix}$$\n",
    "\n",
    "Thus the state derivative becomes:\n",
    "\n",
    "$$\n",
    "\\frac{d\\vec{s}}{dt} = \n",
    "\\begin{bmatrix}\n",
    "d\\theta_1/dt\\\\ d\\theta_2/dt\\\\ d\\theta_3/dt\\\\ d\\phi_1/dt\\\\ d\\phi_2/dt\\\\ d\\phi_3/dt\\\\\n",
    "da_1/dt\\\\ da_2/dt\\\\ da_3/dt\\\\ db_1/dt\\\\ db_2/dt\\\\ db_3/dt\\\\\n",
    "\\end{bmatrix}\n",
    "$$"
   ]
  },
  {
   "cell_type": "code",
   "execution_count": 10,
   "metadata": {},
   "outputs": [
    {
     "data": {
      "text/latex": [
       "\\begin{equation}\\left( 185\\right)\\end{equation}"
      ],
      "text/plain": [
       "(185,)"
      ]
     },
     "metadata": {},
     "output_type": "display_data"
    },
    {
     "data": {
      "text/latex": [
       "\\begin{equation}\\left( 12, \\  185\\right)\\end{equation}"
      ],
      "text/plain": [
       "(12, 185)"
      ]
     },
     "metadata": {},
     "output_type": "display_data"
    }
   ],
   "source": [
    "def dsdt(t, S, g, m1, m2, m3, L1, L2, L3):\n",
    "    th1, th2, th3, ph1, ph2, ph3, a1, a2, a3, b1, b2, b3 = S\n",
    "    return [\n",
    "        dth1dt(a1),\n",
    "        dth2dt(a2),\n",
    "        dth3dt(a3),\n",
    "        dph1dt(b1),\n",
    "        dph2dt(b2),\n",
    "        dph3dt(b3),\n",
    "        da1dt(t, g, m1, m2, m3, L1, L2, L3, th1, th2, th3, a1, a2, a3, ph1, ph2, ph3, b1, b2, b3),\n",
    "        da2dt(t, g, m1, m2, m3, L1, L2, L3, th1, th2, th3, a1, a2, a3, ph1, ph2, ph3, b1, b2, b3),\n",
    "        da3dt(t, g, m1, m2, m3, L1, L2, L3, th1, th2, th3, a1, a2, a3, ph1, ph2, ph3, b1, b2, b3),\n",
    "        db1dt(t, g, m1, m2, m3, L1, L2, L3, th1, th2, th3, a1, a2, a3, ph1, ph2, ph3, b1, b2, b3),\n",
    "        db2dt(t, g, m1, m2, m3, L1, L2, L3, th1, th2, th3, a1, a2, a3, ph1, ph2, ph3, b1, b2, b3),\n",
    "        db3dt(t, g, m1, m2, m3, L1, L2, L3, th1, th2, th3, a1, a2, a3, ph1, ph2, ph3, b1, b2, b3)\n",
    "    ]\n",
    "\n",
    "t0 = 0\n",
    "tf = 10\n",
    "s0 = [np.pi/5, np.pi/6, np.pi/8, np.pi/5, np.pi/6, np.pi/8, 0, 0, 0, 0, 0, 0]\n",
    "g = 9.81\n",
    "m1 = 2.\n",
    "m2 = 4.\n",
    "m3 = 5.\n",
    "L1 = 1.6\n",
    "L2 = 2.\n",
    "L3 = 2.2\n",
    "\n",
    "solution = sp.integrate.solve_ivp(dsdt,(t0, tf), s0, args=(g, m1, m2, m3, L1, L2, L3)) # ~ 2 minutes to compute for 10 seconds sim time.\n",
    "t = solution.t # time array\n",
    "y = solution.y # state array\n",
    "display(t.shape, y.shape)"
   ]
  },
  {
   "cell_type": "markdown",
   "metadata": {},
   "source": [
    "## Plotting"
   ]
  },
  {
   "cell_type": "code",
   "execution_count": 11,
   "metadata": {},
   "outputs": [
    {
     "data": {
      "text/plain": [
       "[<matplotlib.lines.Line2D at 0x17ec49050>]"
      ]
     },
     "execution_count": 11,
     "metadata": {},
     "output_type": "execute_result"
    },
    {
     "data": {
      "image/png": "[encoded data removed]",
      "text/plain": [
       "<Figure size 1100x600 with 6 Axes>"
      ]
     },
     "metadata": {},
     "output_type": "display_data"
    }
   ],
   "source": [
    "fig, ax = plt.subplots(2, 3, figsize=(11,6))\n",
    "\n",
    "ax[0,0].plot(t, y[0,:])\n",
    "ax[0,1].plot(t, y[1,:])\n",
    "ax[0,2].plot(t, y[2,:])\n",
    "ax[1,0].plot(t, y[3,:])\n",
    "ax[1,1].plot(t, y[4,:])\n",
    "ax[1,2].plot(t, y[5,:])"
   ]
  }
 ],
 "metadata": {
  "kernelspec": {
   "display_name": "Python 3",
   "language": "python",
   "name": "python3"
  },
  "language_info": {
   "codemirror_mode": {
    "name": "ipython",
    "version": 3
   },
   "file_extension": ".py",
   "mimetype": "text/x-python",
   "name": "python",
   "nbconvert_exporter": "python",
   "pygments_lexer": "ipython3",
   "version": "3.11.4"
  },
  "orig_nbformat": 4
 },
 "nbformat": 4,
 "nbformat_minor": 2
}
